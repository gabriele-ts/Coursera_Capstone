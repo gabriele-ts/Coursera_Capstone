{
 "cells": [
  {
   "cell_type": "markdown",
   "metadata": {},
   "source": [
    "# The Battle of Neighborhoods- Milan neighborhoods price houses"
   ]
  },
  {
   "cell_type": "markdown",
   "metadata": {},
   "source": [
    "Gabriele Cecere\n",
    "\n",
    "1st January 2021"
   ]
  },
  {
   "cell_type": "markdown",
   "metadata": {},
   "source": [
    "## Introduction\n",
    "\n",
    "Creative Capital of fashion and luxury, Milan is a cutting-edge city, very active in economic and cultural profile, a reality to be discovered to find its hidden treasures of poetic views, Art Nouveau buildings and small architectural gems ranging from Gothic to Romanesque style, scattered throughout its beautiful and ancient historic center, a reason that drives millions of visitors from all over the world every day to visit the city of charm and glamor.\n",
    "\n",
    "Milan is also listed within the top 10 cities for investments in Western Europe and mentioned as one of the preferred destinations for investing in the real estate sector."
   ]
  },
  {
   "cell_type": "markdown",
   "metadata": {},
   "source": [
    "## Business Problem\n",
    "\n",
    "The aim of the project is to investigate about what are some of the variables that contribute to drive up the house's prices in some neighborhoods respect other neighborhoods. In particular the study try to analize if there is some relationship between the presence of specific venues in a neighborhood and the price's houses in that neighborhood."
   ]
  },
  {
   "cell_type": "markdown",
   "metadata": {},
   "source": [
    "## Data Description\n",
    "\n",
    "To perform all the analisys and give an answer to our problem, we need to rely on some data. \n",
    "\n",
    "- First of all, we need to obtain the house prices' for each area of Milan. For this aim, we need to web scrape data from [**immobiliare.it**](https://www.immobiliare.it/mercato-immobiliare/lombardia/milano/), an italian platform for publishing and searching for real estate ads.\n",
    "    \n",
    "    *Zone:* Neighborhoods in each area\n",
    "    \n",
    "    *Vendita:* Average sale price per square meters in each area\n",
    "    \n",
    "    *Affitto:* Average rent price per square meters in each area (we aren't use this variable)\n",
    "\n",
    "- Next, to obtain the geo location of each neighborhood we use **ArcGIS API**. Part of the Esri Geospatial Cloud, ArcGIS enables to connect people, locations, and data using interactive maps. Through this API we obtain 2 new columns:\n",
    "\n",
    "    *Latitude:* Latitude for each neighborhood\n",
    "    \n",
    "    *Longitude:* Longitude for each neighborhood\n",
    "\n",
    "- Finally, we use **Foursquare API** to obtain data about different venues in each neighbourhood. Foursquare is the most trusted, independent location data platform for understanding how people move through the real world. Using this API we obtain 5 addictional columns:\n",
    "\n",
    "    *Neighborhood:* Name of the neighborhood\n",
    "    \n",
    "    *Neighborhood Latitude:* Latitude of the neighborhood\n",
    "    \n",
    "    *Neighborhood Longitude:* Longitude of the neighborhood\n",
    "    \n",
    "    *Venue:* Name of the venue\n",
    "    \n",
    "    *Venue Category:* Category of the venue\n",
    "    \n"
   ]
  },
  {
   "cell_type": "code",
   "execution_count": null,
   "metadata": {},
   "outputs": [],
   "source": []
  },
  {
   "cell_type": "code",
   "execution_count": null,
   "metadata": {},
   "outputs": [],
   "source": []
  }
 ],
 "metadata": {
  "kernelspec": {
   "display_name": "Python 3",
   "language": "python",
   "name": "python3"
  },
  "language_info": {
   "codemirror_mode": {
    "name": "ipython",
    "version": 3
   },
   "file_extension": ".py",
   "mimetype": "text/x-python",
   "name": "python",
   "nbconvert_exporter": "python",
   "pygments_lexer": "ipython3",
   "version": "3.7.6"
  }
 },
 "nbformat": 4,
 "nbformat_minor": 4
}
